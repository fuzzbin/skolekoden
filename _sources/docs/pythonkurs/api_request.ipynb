{
 "metadata": {
  "language_info": {
   "codemirror_mode": {
    "name": "ipython",
    "version": 3
   },
   "file_extension": ".py",
   "mimetype": "text/x-python",
   "name": "python",
   "nbconvert_exporter": "python",
   "pygments_lexer": "ipython3",
   "version": "3.7.1-final"
  },
  "orig_nbformat": 2,
  "kernelspec": {
   "name": "python3",
   "display_name": "Python 3",
   "language": "python"
  }
 },
 "nbformat": 4,
 "nbformat_minor": 2,
 "cells": [
  {
   "source": [
    "# API - Programmeringsgrensesnitt\n",
    "__Creative Commons BY-SA : bitjungle (Rune Mathisen) og fuzzbin (Tom Jarle Christiansen)__\n",
    "\n",
    "<hr/>\n",
    "\n",
    "**For å få tilgang til data brukes et programmeringsgrensesnitt. Den vanligste forkortelsen for dette er API som betyr Aplication programming interface. Typiske bruksområder for et API er for å gi brukere og utviklere tilgang til spesifikke data i en organisasjon eller applikasjon.**\n",
    "\n",
    "Det finnes mange typer data som kan hentes ut ved hjelp av et API.De vanligste formatene er JSON, CSV og XML. Dette er ulike måter å organisere data på. Python har god støtte for å jobbe med de fleste ulike dataformater."
   ],
   "cell_type": "markdown",
   "metadata": {}
  },
  {
   "cell_type": "code",
   "execution_count": 23,
   "metadata": {},
   "outputs": [
    {
     "output_type": "stream",
     "name": "stdout",
     "text": [
      "{'iss_position': {'latitude': '4.0417', 'longitude': '178.2939'},\n 'message': 'success',\n 'timestamp': 1609670219}\n"
     ]
    }
   ],
   "source": [
    "import requests\n",
    "from pprint import pprint #Prettyprint for penere utskrift av JSON\n",
    "\n",
    "url = \"http://api.open-notify.org/iss-now.json\"\n",
    "r = requests.get(url).json()\n",
    "\n",
    "pprint(r)"
   ]
  },
  {
   "cell_type": "code",
   "execution_count": 24,
   "metadata": {},
   "outputs": [
    {
     "output_type": "stream",
     "name": "stdout",
     "text": [
      "Lengdegrad: 178.2939\nBreddegrad: 4.0417\n"
     ]
    }
   ],
   "source": [
    "print(\"Lengdegrad:\", float(r[\"iss_position\"][\"longitude\"]))\n",
    "print(\"Breddegrad:\", float(r[\"iss_position\"][\"latitude\"]))"
   ]
  },
  {
   "source": [],
   "cell_type": "markdown",
   "metadata": {}
  }
 ]
}
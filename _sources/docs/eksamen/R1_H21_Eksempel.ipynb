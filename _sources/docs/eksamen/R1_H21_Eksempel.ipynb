{
 "cells": [
  {
   "cell_type": "markdown",
   "metadata": {},
   "source": [
    "# R1 - H21"
   ]
  },
  {
   "cell_type": "markdown",
   "metadata": {},
   "source": [
    "## Oppgave 1\n",
    "\n",
    "Bestem grenseverdien:\n",
    "\n",
    "$$\\lim_{x \\rightarrow 1} = \\frac{x - 1}{x^2 + x -2}$$\n",
    "\n",
    "Løsning:\n",
    "$$\\lim_{x \\rightarrow 1}\\frac{x - 1}{x^2 + x -2} = \\lim_{x \\rightarrow 1}\\frac{\\cancel{x - 1}}{\\cancel{(x - 1)}(x - 2)} = \\lim_{x \\rightarrow 1} \\frac{1}{x + 2} = \\frac{1}{3}$$"
   ]
  },
  {
   "cell_type": "markdown",
   "metadata": {},
   "source": [
    "## Oppgave 2\n",
    "\n",
    "Vi har vektorene: $\\vec{a}=[2,-5], \\vec{b}=[1,-4], \\vec{c}=[-2,10]$ og $\\vec{d}=[4,1]$\n",
    "\n",
    "a) Avgjør om noen av vektorene har samme lengde\n",
    "\n",
    "Løsning:\n",
    "a)\n",
    "\n",
    "Regner ut lengdene\n",
    "\n",
    "$$\n",
    "\\begin{align}\n",
    "    |\\vec{a}|&=\\sqrt{2^2 + (-5)^2} = \\sqrt{29} \\\\\n",
    "    |\\vec{b}|&=\\sqrt{1^2 + (-4)^2} = \\sqrt{17} \\\\\n",
    "    |\\vec{c}|&=\\sqrt{(-2)^2 + 10^2} = \\sqrt{104} \\\\\n",
    "    |\\vec{d}|&=\\sqrt{4^2 + 1^2} = \\sqrt{17}\n",
    "\\end{align}\n",
    "$$\n",
    "\n",
    "Vi ser at $\\vec{b}$ og $\\vec{d}$ er like lange, og har lengden $\\sqrt{17}$\n",
    "\n"
   ]
  },
  {
   "cell_type": "markdown",
   "metadata": {},
   "source": []
  }
 ],
 "metadata": {
  "interpreter": {
   "hash": "9ec99e04fb4d03195053f18cbdc0a1f409fec9a4af9cb50b871b8eadcaa2c24e"
  },
  "kernelspec": {
   "display_name": "Python 3.9.4 64-bit ('3.9.4': pyenv)",
   "language": "python",
   "name": "python3"
  },
  "language_info": {
   "codemirror_mode": {
    "name": "ipython",
    "version": 3
   },
   "file_extension": ".py",
   "mimetype": "text/x-python",
   "name": "python",
   "nbconvert_exporter": "python",
   "pygments_lexer": "ipython3",
   "version": "3.9.4"
  },
  "orig_nbformat": 4
 },
 "nbformat": 4,
 "nbformat_minor": 2
}

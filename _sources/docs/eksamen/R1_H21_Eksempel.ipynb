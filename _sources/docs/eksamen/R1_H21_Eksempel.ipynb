{
 "cells": [
  {
   "cell_type": "markdown",
   "metadata": {},
   "source": [
    "# R1 - H21"
   ]
  },
  {
   "cell_type": "markdown",
   "metadata": {},
   "source": [
    "## Del 1- Oppgave 1\n",
    "\n",
    "Bestem grenseverdien:\n",
    "\n",
    "$$\\lim_{x \\rightarrow 1} = \\frac{x - 1}{x^2 + x -2}$$\n",
    "\n",
    "Løsning:\n",
    "\n",
    "$$\\lim_{x \\rightarrow 1}\\frac{x - 1}{x^2 + x -2} = \\lim_{x \\rightarrow 1}\\frac{x - 1}{(x - 1)(x + 2)} = \\lim_{x \\rightarrow 1} \\frac{1}{x + 2} = \\frac{1}{3}$$"
   ]
  },
  {
   "cell_type": "markdown",
   "metadata": {},
   "source": [
    "## Del 1 - Oppgave 2\n",
    "\n",
    "Vi har vektorene: $\\vec{a}=[2,-5], \\vec{b}=[1,-4], \\vec{c}=[-2,10]$ og $\\vec{d}=[4,1]$\n",
    "\n",
    "a) Avgjør om noen av vektorene har samme lengde\\\n",
    "b) Avgjør om noen av vektoren står normalt på hverandre\\\n",
    "c) Avgjør om noen av vektorene er parallelle\n",
    "\n",
    "Løsning:\n",
    "\n",
    "Oppgave a)\n",
    "\n",
    "Regner ut lengdene\n",
    "\n",
    "$$\n",
    "\\begin{align}\n",
    "    |\\vec{a}|&=\\sqrt{2^2 + (-5)^2} = \\sqrt{29} \\\\\n",
    "    |\\vec{b}|&=\\sqrt{1^2 + (-4)^2} = \\sqrt{17} \\\\\n",
    "    |\\vec{c}|&=\\sqrt{(-2)^2 + 10^2} = \\sqrt{104} \\\\\n",
    "    |\\vec{d}|&=\\sqrt{4^2 + 1^2} = \\sqrt{17}\n",
    "\\end{align}\n",
    "$$\n",
    "\n",
    "Vi ser at $\\vec{b}$ og $\\vec{d}$ er like lange, og har lengden $\\sqrt{17}$\n",
    "\n",
    "Oppgave b)\n",
    "\n",
    "Sjekker at skalarproduktet mellom vektorene er 0. Dette gjelder kun $\\vec{b}$ og $\\vec{d}$ der vi har:\n",
    "\n",
    "$$\\vec{b} \\cdot \\vec{d} = [1, -4] \\cdot [4,1]=4-4=0$$\n",
    "\n",
    "Oppgave c)\n",
    "\n",
    "Faktoriserer slik at x-komponenten er 1 i alle vektorer. Parallelle vektorer vil da ha lik absoluttverdi av y-komponenten.\n",
    "\n",
    "$$\n",
    "\\begin{align}\n",
    "    \\vec{a} &= 2 \\cdot [1, -\\tfrac{5}{2}] \\\\\n",
    "    \\vec{b} &= [1, -4] \\\\\n",
    "    \\vec{c} &= -2 \\cdot [1, -5] \\\\\n",
    "    \\vec{d} &= 4 \\cdot [1, \\tfrac{1}{4}]\n",
    "\\end{align}\n",
    "$$\n",
    "\n",
    "Absoluttverdien av alle y-komponentene er ulike. Det betyr at ingen av vektorene er parallelle.\n",
    "\n",
    "\n"
   ]
  },
  {
   "cell_type": "markdown",
   "metadata": {},
   "source": []
  },
  {
   "cell_type": "markdown",
   "metadata": {},
   "source": [
    "## Del 1 - Oppgave 3\n",
    "\n",
    "I denne oppgaven har eleven definert funksjonen: $f(x)=\\frac{x}{1+x^2}$ og variablene $h=0.0001$ og $x=0$\n",
    "\n",
    "Løsning:\n",
    "\n",
    "Oppgave a)\n",
    "\n",
    "I whileløkken så sjekkes det om $\\frac{f(x + h) - f(x)}{h}>0$. Dette gjøres gjentattet ganger og $x$ økes med $0.01$ for hver iterasjon.\n",
    "\n",
    "I løkken sjekkes det for hver iterasjon om $\\frac{\\Delta y}{\\Delta x} > 0$. Når dette ikke er tilfellet lenger så avbrytes løkken. I praksis har man da funnet ut når stigningstallet, altså den deriverte, til funksjonen går fra positiv verdi til negativ eller null for første gang for $f(x)$ når $x > 0$. Altså har man funnet et toppunkt eller et terassepunkt for funksjonen.\n",
    "\n",
    "Oppgave b)\n",
    "For sjekke hva resultatet blir uten å kjøre programmet må vi derivere funksjonen $f(x)$ og se når $f'(x)=0$.\n",
    "\n",
    "Vi setter $u = x$ og $v=1+x^2$ og får:\n",
    "\n",
    "$$\n",
    "\\begin{align}\n",
    "    f'(x)&=\\frac{u'\\cdot v- u \\cdot v'}{v^2}\\\\\n",
    "    &= \\frac{1 \\cdot (1+x^2) - x \\cdot 2x}{(1+x^2)^2}\\\\\n",
    "    &= \\frac{1-x^2}{(1+x^2)^2}\n",
    "\\end{align}\n",
    "$$\n",
    "\n",
    "Løser vi $f'(x) = 0$ ser vi at $x=1$\n",
    "\n",
    "Dette er en del1-oppgave som skal løses uten hjelpemidler, men vi tester koden allikevel i dette løsningsforslaget."
   ]
  },
  {
   "cell_type": "code",
   "execution_count": 4,
   "metadata": {},
   "outputs": [
    {
     "name": "stdout",
     "output_type": "stream",
     "text": [
      "x= 1.0000000000000007\n"
     ]
    }
   ],
   "source": [
    "# Test av programkoden i R1_H21_Eksempel - Oppgave 3\n",
    "\n",
    "def f(x):\n",
    "    return x / (1 + x**2)\n",
    "\n",
    "h = 0.0001\n",
    "x = 0\n",
    "\n",
    "while (f(x + h) - f(x)) / h > 0:\n",
    "    x = x + 0.01\n",
    "print(\"x=\", x)"
   ]
  },
  {
   "cell_type": "markdown",
   "metadata": {},
   "source": []
  },
  {
   "cell_type": "markdown",
   "metadata": {},
   "source": [
    "## Del 1 - Oppgave 4\n",
    "\n",
    "Vi har linjen $y = 2x + 4$ og Hva er koordinatene til punktet vi får hvis vi speiler punktet $P(6,1)$ om linjen $y$\n",
    "\n",
    "$Q = [t, 2t + 4]$ gir oss en parameterfremstilling av linja $y$. og $\\vec{v} = [1, 2]$ er retningsvektor for linja $y$.\n",
    "\n",
    "Når $\\vec{PQ} \\perp \\vec{v}$ Har vi normalvektor til linja $y$. Det vil si når $\\vec{PQ}\\cdot \\vec{v} = 0$.\n",
    "\n",
    "Det gir $t = 0$ som igjen gir $\\vec{PQ} = [-6, 3]$. Det speilede punktet $\\vec{PR}$ må da ligge på $2\\vec{PQ} = [-12,6]$\n",
    "\n",
    "Som gir oss $\\vec{OR} = \\vec{OP} + \\vec{PR} = [6 - 12, 1 + 6] = [-6, 7]$ "
   ]
  },
  {
   "cell_type": "markdown",
   "metadata": {},
   "source": []
  },
  {
   "cell_type": "markdown",
   "metadata": {},
   "source": [
    "## Del 1 - Oppgave 5\n",
    "Funksjonen $f(x) = 4x \\cdot e^{-x}$ passer til figur II fordi:\n",
    "\n",
    "$$f'(x) = 4\\cdot e^{-x} - 4x \\cdot e^{-x} = 4(1-x)e^{-x}$$\n",
    "\n",
    "Siden $f'(1)=0$. Vi har altså et ekstremalpunkt på $x=1$.\n",
    "\n",
    "$$f''(x) = -4e^{-x} - 4(1-x)\\cdot e^{-x} = 4(2-x)e^{-x}$$\n",
    "\n",
    "$f''(2)=0$ gir oss vendepunkt i $x=2$. Da er det kun figur II som passer.\n",
    "\n"
   ]
  },
  {
   "cell_type": "markdown",
   "metadata": {},
   "source": []
  },
  {
   "cell_type": "markdown",
   "metadata": {},
   "source": [
    "## Del 2 - Oppgave 1\n",
    "\n",
    "En vektorfunksjon er gitt ved $\\vec{r}(t) = [28t-3t^2, 10t-5t^2]$\n",
    "\n",
    "Løsning:\n",
    "\n",
    "a) Finn banefarten i $\\vec{r}(0)$\n",
    "\n",
    "Vet at farten $\\vec{v}(t) = \\vec{r}'(t) = [28-6t, 10-10t]$.\n",
    "\n",
    "Dette gir oss $\\vec{v}(0)=[28, 10]$ som har lengden $|\\vec{v}|=\\sqrt{28^2 + 10^2} = 29.7$\n",
    "\n",
    "Løsning av oppgave b og c på Geogebra med CAS:\n",
    "\n",
    "![Løsning av oppgave b og c](./img/R1-H21_O6-1.png)\n",
    "\n"
   ]
  },
  {
   "cell_type": "markdown",
   "metadata": {},
   "source": []
  }
 ],
 "metadata": {
  "interpreter": {
   "hash": "9ec99e04fb4d03195053f18cbdc0a1f409fec9a4af9cb50b871b8eadcaa2c24e"
  },
  "kernelspec": {
   "display_name": "Python 3.9.4 64-bit ('3.9.4': pyenv)",
   "language": "python",
   "name": "python3"
  },
  "language_info": {
   "codemirror_mode": {
    "name": "ipython",
    "version": 3
   },
   "file_extension": ".py",
   "mimetype": "text/x-python",
   "name": "python",
   "nbconvert_exporter": "python",
   "pygments_lexer": "ipython3",
   "version": "3.9.4"
  },
  "orig_nbformat": 4
 },
 "nbformat": 4,
 "nbformat_minor": 2
}

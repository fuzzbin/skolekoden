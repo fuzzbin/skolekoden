{
 "cells": [
  {
   "cell_type": "markdown",
   "metadata": {},
   "source": [
    "# Løsningsforslag til eksempeleksamen i matematikk R1 - Høst 2021\n",
    "\n",
    "## Oppgave 1"
   ]
  },
  {
   "cell_type": "markdown",
   "metadata": {},
   "source": [
    "Bestem grenseverdien:\n",
    "\n",
    "$$\\lim_{x \\rightarrow 1} = \\frac{x - 1}{x^2 + x -2}$$\n",
    "\n",
    "Løsning:\n",
    "$$\\lim_{x \\rightarrow 1}\\frac{x - 1}{x^2 + x -2} = \\lim_{x \\rightarrow 1}\\frac{\\cancel{x - 1}}{\\cancel{(x - 1)}(x - 2)} = \\lim_{x \\rightarrow 1} \\frac{1}{x + 2} = \\frac{1}{3}$$\n",
    "\n"
   ]
  },
  {
   "cell_type": "markdown",
   "metadata": {},
   "source": []
  }
 ],
 "metadata": {
  "interpreter": {
   "hash": "9ec99e04fb4d03195053f18cbdc0a1f409fec9a4af9cb50b871b8eadcaa2c24e"
  },
  "kernelspec": {
   "display_name": "Python 3.9.4 64-bit ('3.9.4': pyenv)",
   "language": "python",
   "name": "python3"
  },
  "language_info": {
   "codemirror_mode": {
    "name": "ipython",
    "version": 3
   },
   "file_extension": ".py",
   "mimetype": "text/x-python",
   "name": "python",
   "nbconvert_exporter": "python",
   "pygments_lexer": "ipython3",
   "version": "3.9.4"
  },
  "orig_nbformat": 4
 },
 "nbformat": 4,
 "nbformat_minor": 2
}

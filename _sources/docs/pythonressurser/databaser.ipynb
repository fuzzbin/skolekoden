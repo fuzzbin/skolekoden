{
 "cells": [
  {
   "cell_type": "code",
   "execution_count": 18,
   "metadata": {},
   "outputs": [
    {
     "name": "stdout",
     "output_type": "stream",
     "text": [
      "(1, 'Tom Jarle', 'lærer', 'TRUE')\n",
      "(2, 'Eva', 'lærer', 'TRUE')\n"
     ]
    }
   ],
   "source": [
    "import sqlite3\n",
    "\n",
    "# Lager en databsefil\n",
    "con = sqlite3.connect(\"demo.db\")\n",
    "\n",
    "# Oppretter en tilkobling til databasen\n",
    "cur = con.cursor()\n",
    "\n",
    "# Lager en ny tabell\n",
    "cur.execute(\"CREATE TABLE person(p_nr integer, navn text, yrke text, myndig boolean)\")\n",
    "\n",
    "# Legger inn en rad med data\n",
    "cur.execute(\"INSERT INTO person VALUES (1, 'Tom Jarle', 'lærer', 'TRUE')\")\n",
    "cur.execute(\"INSERT INTO person VALUES (2, 'Eva', 'lærer', 'TRUE')\")\n",
    "\n",
    "# Save (commit) the changes\n",
    "con.commit()\n",
    "\n",
    "# Skriver ut alle datya\n",
    "for row in cur.execute(\"SELECT * FROM person\"):\n",
    "        print(row)\n",
    "\n",
    "# Lukker forbindelsen\n",
    "con.close()\n",
    "\n"
   ]
  },
  {
   "cell_type": "code",
   "execution_count": null,
   "metadata": {},
   "outputs": [],
   "source": []
  }
 ],
 "metadata": {
  "interpreter": {
   "hash": "949777d72b0d2535278d3dc13498b2535136f6dfe0678499012e853ee9abcab1"
  },
  "kernelspec": {
   "display_name": "Python 3.7.1 64-bit",
   "language": "python",
   "name": "python3"
  },
  "language_info": {
   "codemirror_mode": {
    "name": "ipython",
    "version": 3
   },
   "file_extension": ".py",
   "mimetype": "text/x-python",
   "name": "python",
   "nbconvert_exporter": "python",
   "pygments_lexer": "ipython3",
   "version": "3.7.1"
  },
  "orig_nbformat": 4
 },
 "nbformat": 4,
 "nbformat_minor": 2
}
